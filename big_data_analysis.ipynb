{
 "cells": [
  {
   "cell_type": "markdown",
   "id": "21feec64-f1c8-4830-88ac-366e3dad1932",
   "metadata": {},
   "source": [
    "## Start SparkSession"
   ]
  },
  {
   "cell_type": "code",
   "execution_count": 1,
   "id": "cd0bdbb8-38ee-4dac-ba13-a85e97e59ab2",
   "metadata": {},
   "outputs": [],
   "source": [
    "from pyspark.sql import SparkSession\n",
    "\n",
    "# Start Spark session\n",
    "spark = SparkSession.builder.appName(\"BigDataAnalysis\").getOrCreate()"
   ]
  },
  {
   "cell_type": "markdown",
   "id": "5d18755b-65be-4c70-bdeb-98b701acb8a9",
   "metadata": {},
   "source": [
    "## Load the Titanic Dataset"
   ]
  },
  {
   "cell_type": "code",
   "execution_count": 2,
   "id": "66238b97-cd12-44ef-a18a-98562db20203",
   "metadata": {},
   "outputs": [
    {
     "name": "stdout",
     "output_type": "stream",
     "text": [
      "root\n",
      " |-- PassengerId: integer (nullable = true)\n",
      " |-- Survived: integer (nullable = true)\n",
      " |-- Pclass: integer (nullable = true)\n",
      " |-- Name: string (nullable = true)\n",
      " |-- Sex: string (nullable = true)\n",
      " |-- Age: double (nullable = true)\n",
      " |-- SibSp: integer (nullable = true)\n",
      " |-- Parch: integer (nullable = true)\n",
      " |-- Ticket: string (nullable = true)\n",
      " |-- Fare: double (nullable = true)\n",
      " |-- Cabin: string (nullable = true)\n",
      " |-- Embarked: string (nullable = true)\n",
      "\n",
      "+-----------+--------+------+--------------------+------+----+-----+-----+----------------+-------+-----+--------+\n",
      "|PassengerId|Survived|Pclass|                Name|   Sex| Age|SibSp|Parch|          Ticket|   Fare|Cabin|Embarked|\n",
      "+-----------+--------+------+--------------------+------+----+-----+-----+----------------+-------+-----+--------+\n",
      "|          1|       0|     3|Braund, Mr. Owen ...|  male|22.0|    1|    0|       A/5 21171|   7.25| NULL|       S|\n",
      "|          2|       1|     1|Cumings, Mrs. Joh...|female|38.0|    1|    0|        PC 17599|71.2833|  C85|       C|\n",
      "|          3|       1|     3|Heikkinen, Miss. ...|female|26.0|    0|    0|STON/O2. 3101282|  7.925| NULL|       S|\n",
      "|          4|       1|     1|Futrelle, Mrs. Ja...|female|35.0|    1|    0|          113803|   53.1| C123|       S|\n",
      "|          5|       0|     3|Allen, Mr. Willia...|  male|35.0|    0|    0|          373450|   8.05| NULL|       S|\n",
      "+-----------+--------+------+--------------------+------+----+-----+-----+----------------+-------+-----+--------+\n",
      "only showing top 5 rows\n"
     ]
    }
   ],
   "source": [
    "df = spark.read.csv(\"dataset/titanic.csv\", header=True, inferSchema=True)\n",
    "df.printSchema()\n",
    "df.show(5)"
   ]
  },
  {
   "cell_type": "markdown",
   "id": "345e0620-3201-4380-a769-33a31159cd44",
   "metadata": {},
   "source": [
    "## Count Total Records"
   ]
  },
  {
   "cell_type": "code",
   "execution_count": 3,
   "id": "50b6978f-439a-4bcc-82ee-664f9823d37f",
   "metadata": {},
   "outputs": [
    {
     "name": "stdout",
     "output_type": "stream",
     "text": [
      "Total Records: 891\n"
     ]
    }
   ],
   "source": [
    "print(\"Total Records:\", df.count())"
   ]
  },
  {
   "cell_type": "markdown",
   "id": "42d3cba9-a478-4cd2-98d6-ac441f1a0e43",
   "metadata": {},
   "source": [
    "## Group by Survival"
   ]
  },
  {
   "cell_type": "code",
   "execution_count": 4,
   "id": "ca267fc8-cac3-487e-9f8d-7249b5ea5601",
   "metadata": {},
   "outputs": [
    {
     "name": "stdout",
     "output_type": "stream",
     "text": [
      "+--------+-----+\n",
      "|Survived|count|\n",
      "+--------+-----+\n",
      "|       1|  342|\n",
      "|       0|  549|\n",
      "+--------+-----+\n",
      "\n"
     ]
    }
   ],
   "source": [
    "df.groupBy(\"Survived\").count().show()"
   ]
  },
  {
   "cell_type": "markdown",
   "id": "b051f51b-63b5-48e0-979a-7d8395ece157",
   "metadata": {},
   "source": [
    "## Average Age"
   ]
  },
  {
   "cell_type": "code",
   "execution_count": 5,
   "id": "64a2ac14-a83b-4bdc-a356-c6e29a83dcd9",
   "metadata": {},
   "outputs": [
    {
     "name": "stdout",
     "output_type": "stream",
     "text": [
      "+-------+------------------+\n",
      "|summary|               Age|\n",
      "+-------+------------------+\n",
      "|  count|               714|\n",
      "|   mean| 29.69911764705882|\n",
      "| stddev|14.526497332334035|\n",
      "|    min|              0.42|\n",
      "|    max|              80.0|\n",
      "+-------+------------------+\n",
      "\n"
     ]
    }
   ],
   "source": [
    "df.select(\"Age\").describe().show()"
   ]
  },
  {
   "cell_type": "markdown",
   "id": "2a8f9235-6907-4c1e-a2d3-04581a3473f7",
   "metadata": {},
   "source": [
    "## Average Fare by Class"
   ]
  },
  {
   "cell_type": "code",
   "execution_count": 6,
   "id": "d804dd85-c08c-4317-956d-0290396d9570",
   "metadata": {},
   "outputs": [
    {
     "name": "stdout",
     "output_type": "stream",
     "text": [
      "+------+------------------+\n",
      "|Pclass|         avg(Fare)|\n",
      "+------+------------------+\n",
      "|     1| 84.15468749999992|\n",
      "|     3|13.675550101832997|\n",
      "|     2| 20.66218315217391|\n",
      "+------+------------------+\n",
      "\n"
     ]
    }
   ],
   "source": [
    "df.groupBy(\"Pclass\").avg(\"Fare\").show()"
   ]
  },
  {
   "cell_type": "markdown",
   "id": "42b7da0f-e56c-435a-929f-f94856a398b5",
   "metadata": {},
   "source": [
    "## Stop Spark"
   ]
  },
  {
   "cell_type": "code",
   "execution_count": 7,
   "id": "8ba6ad0a-7305-46c7-9dec-a6d778df1961",
   "metadata": {},
   "outputs": [],
   "source": [
    "spark.stop()"
   ]
  },
  {
   "cell_type": "markdown",
   "id": "26112cf4-5120-4654-a5ee-2b16a8222e2a",
   "metadata": {},
   "source": [
    "## Insights Derived from Big Data Analysis\n",
    "- **Total Records Processed** : 891\n",
    "- **Survival Distribution** :\n",
    "  - Survived: 342\n",
    "  - Not Survived: 549\n",
    "- **Gender Distribution** :\n",
    "  - Male: 577\n",
    "  - Female: 314\n",
    "- **Average Age**: ~29.7 years\n",
    "- **Average Fare by Class** :\n",
    "  - 1st Class: 84.15\n",
    "  - 2nd Class: 20.66\n",
    "  - 3rd Class: 13.68"
   ]
  }
 ],
 "metadata": {
  "kernelspec": {
   "display_name": "Python 3 (ipykernel)",
   "language": "python",
   "name": "python3"
  },
  "language_info": {
   "codemirror_mode": {
    "name": "ipython",
    "version": 3
   },
   "file_extension": ".py",
   "mimetype": "text/x-python",
   "name": "python",
   "nbconvert_exporter": "python",
   "pygments_lexer": "ipython3",
   "version": "3.12.4"
  }
 },
 "nbformat": 4,
 "nbformat_minor": 5
}
